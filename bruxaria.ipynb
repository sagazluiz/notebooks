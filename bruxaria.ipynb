{
 "cells": [
  {
   "cell_type": "markdown",
   "metadata": {},
   "source": [
    "# Não é bruxaria, é Pandas"
   ]
  },
  {
   "cell_type": "markdown",
   "metadata": {},
   "source": [
    "<video controls src=\"bruxaria.mp4\">"
   ]
  },
  {
   "cell_type": "code",
   "execution_count": null,
   "metadata": {},
   "outputs": [],
   "source": [
    "import pandas as pd"
   ]
  },
  {
   "cell_type": "code",
   "execution_count": null,
   "metadata": {},
   "outputs": [],
   "source": [
    "from pandas import Series, DataFrame"
   ]
  },
  {
   "cell_type": "markdown",
   "metadata": {},
   "source": [
    "## Series"
   ]
  },
  {
   "cell_type": "code",
   "execution_count": null,
   "metadata": {},
   "outputs": [],
   "source": [
    "s = pd.Series(['abacate', 7, -5, 3.1415])\n",
    "print (s)"
   ]
  },
  {
   "cell_type": "code",
   "execution_count": null,
   "metadata": {},
   "outputs": [],
   "source": [
    "print (s.values)\n",
    "print (s.index)"
   ]
  },
  {
   "cell_type": "code",
   "execution_count": null,
   "metadata": {},
   "outputs": [],
   "source": [
    "f = pd.Series('abacate banana caju damasco'.split(), index='a b c d'.split())\n",
    "print (f.index)"
   ]
  },
  {
   "cell_type": "code",
   "execution_count": null,
   "metadata": {},
   "outputs": [],
   "source": [
    "f['c'] = 'cupuaçu'\n",
    "print (f.values)"
   ]
  },
  {
   "cell_type": "code",
   "execution_count": null,
   "metadata": {},
   "outputs": [],
   "source": [
    "[x for x in f.values if len(x) < 7]"
   ]
  },
  {
   "cell_type": "code",
   "execution_count": null,
   "metadata": {},
   "outputs": [],
   "source": [
    "'banana' in f.values"
   ]
  },
  {
   "cell_type": "code",
   "execution_count": null,
   "metadata": {},
   "outputs": [],
   "source": [
    "'uva' in f.values"
   ]
  },
  {
   "cell_type": "code",
   "execution_count": null,
   "metadata": {},
   "outputs": [],
   "source": [
    "j = {'SP': 212575, 'BA':24446, 'RJ': 49882, 'MG':47245, 'SC': 6790, 'RS':13177}\n",
    "s = pd.Series(j)\n",
    "print (s.values, s.index)"
   ]
  },
  {
   "cell_type": "markdown",
   "metadata": {},
   "source": [
    "## DataFrame"
   ]
  },
  {
   "cell_type": "code",
   "execution_count": null,
   "metadata": {},
   "outputs": [],
   "source": [
    "import requests\n",
    "import json\n",
    "url = 'http://www.omdbapi.com/?t=Stranger Things&Season=2&apikey=e25dd5fa'\n",
    "data = requests.get(url).content\n",
    "data = json.loads(data)\n",
    "print (data['Episodes'])"
   ]
  },
  {
   "cell_type": "code",
   "execution_count": null,
   "metadata": {},
   "outputs": [],
   "source": [
    "df = pd.DataFrame(data['Episodes'])\n",
    "print (df)"
   ]
  },
  {
   "cell_type": "markdown",
   "metadata": {},
   "source": [
    "### Estabelecimentos e Serviços de Saúde PMSP "
   ]
  },
  {
   "cell_type": "code",
   "execution_count": null,
   "metadata": {},
   "outputs": [],
   "source": [
    "import matplotlib.pyplot as plt\n",
    "#http://dados.prefeitura.sp.gov.br/dataset/cadastro-dos-estabelecimentos-de-saude/resource/86addd0c-ccce-46c3-9f3b-a454ce8a4234\n",
    "#Guilherme Hiroki, Gabriel Dornelas\n",
    "legendas = 'Leste Sul Norte Oeste Centro'.split()\n",
    "dados = pd.read_excel('deinfosacadsau2014.xls',\n",
    "                      sheetname='DEINFO_SA_CADSAU_2014')\n",
    "print (dados.head())"
   ]
  },
  {
   "cell_type": "code",
   "execution_count": null,
   "metadata": {},
   "outputs": [],
   "source": [
    "plt.axis('equal')\n",
    "plt.pie(dados['REGIAO5'].value_counts(), autopct=\"%.2f\",\n",
    "        labels=legendas, explode = [0.1,0,0,0,0])\n",
    "plt.suptitle(\"Estabelecimento e Serviços de\\nSaúde do Município de São Paulo\")\n",
    "\n",
    "plt.show()"
   ]
  },
  {
   "cell_type": "markdown",
   "metadata": {},
   "source": [
    "### Despesas dos Deputados Federais (mensal) "
   ]
  },
  {
   "cell_type": "code",
   "execution_count": null,
   "metadata": {
    "scrolled": true
   },
   "outputs": [],
   "source": [
    "#https://dadosabertos.camara.leg.br/swagger/api.html\n",
    "#Celso Tomisaki, Claudio Jayme\n",
    "dtf = pd.read_csv('./Ano-2017.csv', low_memory=False,delimiter=';', encoding='UTF-8', decimal=',')\n",
    "dtf.head()"
   ]
  },
  {
   "cell_type": "code",
   "execution_count": null,
   "metadata": {},
   "outputs": [],
   "source": [
    "dtf.columns"
   ]
  },
  {
   "cell_type": "code",
   "execution_count": null,
   "metadata": {},
   "outputs": [],
   "source": [
    "dtf['txtDescricao'].value_counts()"
   ]
  },
  {
   "cell_type": "code",
   "execution_count": null,
   "metadata": {},
   "outputs": [],
   "source": [
    "sum(dtf['vlrDocumento'])"
   ]
  },
  {
   "cell_type": "code",
   "execution_count": null,
   "metadata": {},
   "outputs": [],
   "source": [
    "dt_f = dtf.groupby(['numMes','txtDescricao']).apply(lambda x: x['vlrDocumento'].sum())"
   ]
  },
  {
   "cell_type": "code",
   "execution_count": null,
   "metadata": {},
   "outputs": [],
   "source": [
    "%matplotlib inline\n",
    "fig, axes = plt.subplots(nrows=12, ncols=1)\n",
    "mes = 'Janeiro Fevereiro Março Abril Maio Junho Julho Agosto Setembro Outubro Novembro Dezembro'.split()\n",
    "for x in range(11):\n",
    "    dt_f[x+1].plot.barh(ax = axes[x],figsize=(10,70),\n",
    "                        title=(f'Despesas dos deputados em {mes[x]}'))"
   ]
  },
  {
   "cell_type": "markdown",
   "metadata": {},
   "source": [
    "### Análise do Sentimento em relação ao termo Lava Jato (época filme)"
   ]
  },
  {
   "cell_type": "code",
   "execution_count": null,
   "metadata": {},
   "outputs": [],
   "source": [
    "#Não esquecer de levantar o Servidor do MongoDB\n",
    "#Gabriel Sansigolo, Caique Assis, Eduardo Lima\n",
    "import pymongo\n",
    "import pandas as pd\n",
    "import matplotlib.pyplot as plt\n",
    "from pymongo import MongoClient\n",
    "\n",
    "ln = []\n",
    "lp = []\n",
    "number_tweet_pos = number_tweet_neg = 0\n",
    "\n",
    "lista_pos = open(\"positive-words.txt\", \"r\")\n",
    "\n",
    "lista_pos = lista_pos.readlines()\n",
    "for line in lista_pos: lp.append(line.strip())\n",
    "lista_pos = lp\n",
    "\n",
    "lista_neg = open(\"negative-words.txt\", \"r\")\n",
    "\n",
    "lista_neg = lista_neg.readlines()\n",
    "for line in lista_neg: ln.append(line.strip())\n",
    "lista_neg = ln"
   ]
  },
  {
   "cell_type": "code",
   "execution_count": null,
   "metadata": {},
   "outputs": [],
   "source": [
    "client = MongoClient()\n",
    "db = client.tweet_db_1\n",
    "tweet_collection = db.tweet_collection\n",
    "tweet_collection.create_index([(\"id\", pymongo.ASCENDING)],unique = True) \n",
    "tweet_cursor = tweet_collection.find()\n",
    "print (f'Número de tweets {tweet_cursor.count()}')\n",
    "  \n",
    "user_cursor = tweet_collection.distinct(\"user.id\")\n",
    "print (f'Número de usuários únicos {len(user_cursor)}')"
   ]
  },
  {
   "cell_type": "code",
   "execution_count": null,
   "metadata": {},
   "outputs": [],
   "source": [
    "def BMP(s): return \"\".join((i if ord(i) < 10000 else '\\ufffd' for i in s))\n",
    "  \n",
    "for document in tweet_cursor:\n",
    "    number_words_pos = 0\n",
    "    number_words_neg = 0\n",
    "\n",
    "    #print (BMP(document[\"user\"][\"name\"]), BMP(document[\"text\"]), '\\n')\n",
    "\n",
    "    lista=BMP(document[\"text\"]).split()\n",
    "    for i in range(len(lista)):\n",
    "        if lista[i] in lista_pos: number_words_pos += 1\n",
    "        if lista[i] in lista_neg: number_words_neg += 1\n",
    "            \n",
    "    if number_words_pos > number_words_neg: number_tweet_pos = number_tweet_pos+1\n",
    "    if number_words_pos < number_words_neg: number_tweet_neg = number_tweet_neg+1"
   ]
  },
  {
   "cell_type": "code",
   "execution_count": null,
   "metadata": {},
   "outputs": [],
   "source": [
    "labels = 'Tweets Positivos','Tweets Negativos'\n",
    "sizes = [number_tweet_pos, number_tweet_neg]\n",
    "\n",
    "fig1, ax1 = plt.subplots()\n",
    "ax1.set_title('Sentimento dos Tweets Lava Jato (época do filme)')\n",
    "\n",
    "ax1.pie(sizes, labels=labels, autopct='%1.2f%%',\n",
    "        shadow=True, startangle=90, colors=['gold', 'lightskyblue'])\n",
    "\n",
    "ax1.axis('equal') \n",
    "plt.show()"
   ]
  },
  {
   "cell_type": "markdown",
   "metadata": {},
   "source": [
    "### Comparativo das Companhias Aéreas 2012, 2014, 2016"
   ]
  },
  {
   "cell_type": "code",
   "execution_count": null,
   "metadata": {},
   "outputs": [],
   "source": [
    "import pandas as pd\n",
    "import matplotlib.pyplot as plt\n",
    "#http://www.anac.gov.br/assuntos/dados-e-estatisticas/microdados-de-tarifas-aereas-comercializadas\n",
    "#Lucas Michael Santos\n",
    "\n",
    "dados2012 = pd.read_csv(\"2012.csv\")\n",
    "dados2012_1 = dados2012.groupby(\n",
    "    by=['DESIGNADOR_ICAO_EMPRESA'])['VALOR_TARIFA'].sum()\n",
    "\n",
    "dados2014 = pd.read_csv(\"2014.csv\")\n",
    "dados2014_1 = dados2014.groupby(\n",
    "    by=['DESIGNADOR_ICAO_EMPRESA'])['VALOR_TARIFA'].sum()\n",
    "\n",
    "dados2016 = pd.read_csv(\"2016.csv\")\n",
    "dados2016_1 = dados2016.groupby(\n",
    "    by=['DESIGNADOR_ICAO_EMPRESA'])['VALOR_TARIFA'].sum()\n",
    "\n",
    "dicionario_siglas={'AAL':'AMERICAN AIRLINES','ACA':'AIR CANADA','AEA':'AIR EUROPA',\n",
    "          'AEY':'AIR ITALY','AFR':'AIR FRANCE','AMX':'AEROMEXICO',\n",
    "          'ARG':'AEROLINEAS ARGENTINAS','AVA':'AVIANCA','AWE':'US AIRWAYS',\n",
    "          'AZA':'ALITALIA','AZU':'AZUL','BAW':'BRITISH AIRWAYS',\n",
    "          'BOV':'BOA - BOLIVIANA DE AVIACION','CCA':'AIR CHINA','CFG':'CONDOR',\n",
    "          'CMP':'COPA AIRLINES','COA':'CONTINENTAL AIRLINES',\n",
    "          'DAL':'DELTA AIRLINES','DLH':'LUFTHANSA','DSM':'LAN ARGENTINA',\n",
    "          'DTA':'ANGOLA AIRLINES','ELY':'El Al','ETD':'ETIHAD AIRWAYS P.J.S.C',\n",
    "          'ETH':'ETHIOPIAN AIRLINES ENTERPRISE','FWI':'AIR CARAIBES','GLO':'GOL',\n",
    "          'IBE':'IBERIA','INC':'INSEL AIR INTERNATIONAL B.V.','ISS':'MERIDIANA FLY S.P.A.',\n",
    "          'KAL':'KOREAN AIR','KLM':'KLM','LAN':'LAN CHILE','LPE':'LAN PERU',\n",
    "          'LRC':'LINEAS AEREAS COSTARRICENCES','LXP':'LAN EXPRESS','MSQ':'META',\n",
    "          'NLU':'INSEL AIR ARUBA N.V','ONE':'OCEANAIR','PUA':'PLUNA','QTR':'QATAR AIRWAYS',\n",
    "          'RAM':'ROYAL AIR MAROC','SAA':'SOUTH AFRICAN AIRWAYS','SIA':'Singapore Airlines Limited',\n",
    "          'SLM':'SURINAM','SWR':'SWISS','TAM':'TAM','TAP':'TRANSPORTES AEREOS PORTUGUESES',\n",
    "          'TCV':'TACV-TRANSP. AEREOS CABO VERDE','THY':'TURKISH AIRLINES','TPU':'TACA PERU',\n",
    "          'UAE':'EMIRATES','UAL':'UNITED AIR LINES'}\n",
    "\n",
    "#unificando e filtrando as empresas dos 3 arquivos\n",
    "siglas_finais=[]\n",
    "for s in dados2012_1.index:\n",
    "    if s in dicionario_siglas:\n",
    "        if dicionario_siglas[s] not in siglas_finais:\n",
    "            siglas_finais.append(dicionario_siglas[s])\n",
    "\n",
    "for s in dados2014_1.index:\n",
    "    if s in dicionario_siglas:\n",
    "        if dicionario_siglas[s] not in siglas_finais:\n",
    "            siglas_finais.append(dicionario_siglas[s])\n",
    "\n",
    "for s in dados2016_1.index:\n",
    "    if s in dicionario_siglas:\n",
    "        if dicionario_siglas[s] not in siglas_finais:\n",
    "            siglas_finais.append(dicionario_siglas[s])\n",
    "            \n",
    "#obtendo o tamanho para o X do grafico\n",
    "x1=range(len(dados2012_1.index))\n",
    "x2=range(len(dados2014_1.index))\n",
    "x3=range(len(dados2016_1.index))\n",
    "x_final=range(len(siglas_finais))\n",
    "\n",
    "#montando o grafico\n",
    "b1=plt.bar(x1, dados2012_1.values, color='#F57C00')\n",
    "b2=plt.bar(x2, dados2014_1.values,color='#039BE5')\n",
    "b3=plt.bar(x3, dados2016_1.values,color='#D500F9')\n",
    "\n",
    "plt.xticks(x_final,siglas_finais,rotation='vertical',size=8)\n",
    "plt.title('Comparativo Companhias Aéreas 2012, 2014 e 2016')\n",
    "plt.xlabel('Empresas')\n",
    "plt.ylabel('Valor de Tarifa Total (Mi)')\n",
    "plt.legend((b1[0], b2[0], b3[0]),('2012','2014','2016'))\n",
    "\n",
    "plt.subplots_adjust(bottom=0.45,top=0.95)\n",
    "plt.show()"
   ]
  },
  {
   "cell_type": "markdown",
   "metadata": {},
   "source": [
    "### PIB per capita (USD) x Expectativa vida (anos)"
   ]
  },
  {
   "cell_type": "code",
   "execution_count": null,
   "metadata": {},
   "outputs": [],
   "source": [
    "import pandas as pd\n",
    "import numpy as np\n",
    "import matplotlib.pyplot as plt\n",
    "\n",
    "# mhfsilveira\n",
    "df = pd.read_csv('http://assets.datacamp.com/course/intermediate_python/gapminder.csv', index_col = 0)\n",
    "gdp_cap = list(df.gdp_cap)\n",
    "life_exp = list(df.life_exp)\n",
    "pop = list(df['population']/1e6)\n",
    "cont = list(df.cont)\n",
    "lut = {\n",
    "    'Asia':'red',\n",
    "    'Europe':'green',\n",
    "    'Africa':'blue',\n",
    "    'Americas':'yellow',\n",
    "    'Oceania':'black'\n",
    "}\n",
    "col = [lut[x] for x in cont]\n",
    "\n",
    "# Scatter plot\n",
    "plt.scatter(x = gdp_cap, y = life_exp, s = np.array(pop) * 2, c = col, alpha = 0.8)\n",
    "\n",
    "# Customizations\n",
    "plt.xscale('log') \n",
    "plt.xlabel('PIB per Capita [em USD]')\n",
    "plt.ylabel('Expectativa de Vida [em anos]')\n",
    "plt.title('World Development 2007')\n",
    "plt.xticks([1000,10000,100000], ['1k','10k','100k'])\n",
    "\n",
    "plt.text(1550, 70, 'Índia')\n",
    "plt.text(5700, 78, 'China')\n",
    "plt.text(42951, 78, 'EUA')\n",
    "plt.text(9065,72, 'Brasil')\n",
    "\n",
    "plt.grid(True)\n",
    "plt.show()"
   ]
  },
  {
   "cell_type": "markdown",
   "metadata": {},
   "source": [
    "### Comparativo PIB Chile, Uruguai e Brasil pela API do Banco Mundial"
   ]
  },
  {
   "cell_type": "code",
   "execution_count": null,
   "metadata": {},
   "outputs": [],
   "source": [
    "import wbdata\n",
    "import matplotlib.pyplot as plt\n",
    "#https://blogs.worldbank.org/opendata/accessing-world-bank-data-apis-python-r-ruby-stata \n",
    "countries = [\"CL\",\"UY\",\"BR\"]\n",
    "indicators = {'NY.GNP.PCAP.CD':'GNI per Capita'}\n",
    " \n",
    "df = wbdata.get_dataframe(indicators, country=countries, convert_date=False)\n",
    "\n",
    "dfu = df.unstack(level=0)\n",
    "\n",
    "dfu.plot()\n",
    "plt.legend(loc='best')\n",
    "plt.title(\"GNI Per Capita ($USD, Atlas Method)\")\n",
    "plt.xlabel('Date')\n",
    "plt.ylabel('GNI Per Capita ($USD, Atlas Method')\n",
    "plt.show()"
   ]
  }
 ],
 "metadata": {
  "kernelspec": {
   "display_name": "Python 3",
   "language": "python",
   "name": "python3"
  },
  "language_info": {
   "codemirror_mode": {
    "name": "ipython",
    "version": 3
   },
   "file_extension": ".py",
   "mimetype": "text/x-python",
   "name": "python",
   "nbconvert_exporter": "python",
   "pygments_lexer": "ipython3",
   "version": "3.6.3"
  }
 },
 "nbformat": 4,
 "nbformat_minor": 2
}
