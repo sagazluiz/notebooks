{
  "nbformat": 4,
  "nbformat_minor": 0,
  "metadata": {
    "colab": {
      "name": "gradiente descendente regressao linear.ipynb",
      "provenance": [],
      "collapsed_sections": []
    },
    "kernelspec": {
      "name": "python3",
      "display_name": "Python 3"
    }
  },
  "cells": [
    {
      "cell_type": "markdown",
      "metadata": {
        "id": "rmI9qXhjxJBl",
        "colab_type": "text"
      },
      "source": [
        "## Curso ML Didática Tech"
      ]
    },
    {
      "cell_type": "markdown",
      "metadata": {
        "id": "3cZYCLvPKpXh",
        "colab_type": "text"
      },
      "source": [
        "### Algorítimo para cálculo do gradiente descendente\n"
      ]
    },
    {
      "cell_type": "code",
      "metadata": {
        "id": "t5geruf4znXh",
        "colab_type": "code",
        "colab": {
          "base_uri": "https://localhost:8080/",
          "height": 34
        },
        "outputId": "b16abe1e-2960-47b3-db5e-bdcd77db2092"
      },
      "source": [
        "import numpy as np\n",
        "\n",
        "# primeira reta\n",
        "X = 1\n",
        "m = 7\n",
        "b = 1\n",
        "L = 0.000001 #Learning Rate\n",
        "iteracoes = 1000\n",
        "\n",
        "#Criando o gradiente descendente\n",
        "for i in range(iteracoes):\n",
        "  Y_pred = m*X+ b # valor atual da reta\n",
        "  derivadam = np.sum(2*X*(Y_pred - y)) # Derivada da função de custo em relação a m\n",
        "  derivadab = np.sum(2*(Y_pred - y)) # Derivada da função de custo em relação a b\n",
        "  m = m + derivadam*L # Atualiza m\n",
        "  b = b + derivadab*L # Atualiza b\n",
        "print(m, b)\n",
        "   \n"
      ],
      "execution_count": 3,
      "outputs": [
        {
          "output_type": "stream",
          "text": [
            "11.275160461431327 5.2751604614313115\n"
          ],
          "name": "stdout"
        }
      ]
    },
    {
      "cell_type": "markdown",
      "metadata": {
        "id": "tYnWIq8wKcGS",
        "colab_type": "text"
      },
      "source": [
        "### Regressão Linear"
      ]
    },
    {
      "cell_type": "code",
      "metadata": {
        "id": "UFHOYRO_465a",
        "colab_type": "code",
        "colab": {
          "base_uri": "https://localhost:8080/",
          "height": 267
        },
        "outputId": "ec4a6441-13d9-49eb-f300-7b99a9a845b4"
      },
      "source": [
        "from sklearn.datasets import make_regression\n",
        "import matplotlib.pyplot as plt\n",
        "# gerando uma massa de dados:\n",
        "x, y = make_regression(n_samples=200, n_features=1, noise=30)\n",
        "# mostrando no gráfico\n",
        "plt.scatter(x,y)\n",
        "plt.show()"
      ],
      "execution_count": 10,
      "outputs": [
        {
          "output_type": "display_data",
          "data": {
            "image/png": "[encoded data removed]",
            "text/plain": [
              "<Figure size 432x288 with 1 Axes>"
            ]
          },
          "metadata": {
            "tags": [],
            "needs_background": "light"
          }
        }
      ]
    },
    {
      "cell_type": "code",
      "metadata": {
        "id": "iwfXhQH58GXD",
        "colab_type": "code",
        "colab": {}
      },
      "source": [
        "from sklearn.linear_model import LinearRegression\n",
        "# Criação do modelo:\n",
        "modelo = LinearRegression()"
      ],
      "execution_count": 11,
      "outputs": []
    },
    {
      "cell_type": "code",
      "metadata": {
        "id": "ZLr8x6kp8SWH",
        "colab_type": "code",
        "colab": {
          "base_uri": "https://localhost:8080/",
          "height": 34
        },
        "outputId": "bf569264-8fc8-4864-e5ff-d6f33e477f80"
      },
      "source": [
        "modelo.fit(x,y) # se você não informa ele assume o parâmetro default"
      ],
      "execution_count": 12,
      "outputs": [
        {
          "output_type": "execute_result",
          "data": {
            "text/plain": [
              "LinearRegression(copy_X=True, fit_intercept=True, n_jobs=None, normalize=False)"
            ]
          },
          "metadata": {
            "tags": []
          },
          "execution_count": 12
        }
      ]
    },
    {
      "cell_type": "code",
      "metadata": {
        "id": "jBzlvAxy8XRj",
        "colab_type": "code",
        "colab": {
          "base_uri": "https://localhost:8080/",
          "height": 34
        },
        "outputId": "5434581d-a278-4962-ec21-7b7061966ed6"
      },
      "source": [
        "modelo.intercept_ # coeficiente linear"
      ],
      "execution_count": 13,
      "outputs": [
        {
          "output_type": "execute_result",
          "data": {
            "text/plain": [
              "-2.773714468101618"
            ]
          },
          "metadata": {
            "tags": []
          },
          "execution_count": 13
        }
      ]
    },
    {
      "cell_type": "code",
      "metadata": {
        "id": "I7cfe2To8cPT",
        "colab_type": "code",
        "colab": {
          "base_uri": "https://localhost:8080/",
          "height": 34
        },
        "outputId": "4f867d4e-ab1c-4674-b488-1405203d2afc"
      },
      "source": [
        "modelo.coef_      # coeficiente angular"
      ],
      "execution_count": 14,
      "outputs": [
        {
          "output_type": "execute_result",
          "data": {
            "text/plain": [
              "array([65.21796887])"
            ]
          },
          "metadata": {
            "tags": []
          },
          "execution_count": 14
        }
      ]
    },
    {
      "cell_type": "code",
      "metadata": {
        "id": "7WqczXxj_UN3",
        "colab_type": "code",
        "colab": {
          "base_uri": "https://localhost:8080/",
          "height": 267
        },
        "outputId": "eed64ff9-6959-4f84-c5af-1d6e7d97d14b"
      },
      "source": [
        "#mostrando o resultado\n",
        "import numpy as np\n",
        "plt.scatter(x,y)\n",
        "xreg = np.arange(-3, 3, 1)\n",
        "plt.plot(xreg, modelo.coef_*xreg-2.773714468101618, color='red') # grafico regressao\n",
        "plt.show()"
      ],
      "execution_count": 17,
      "outputs": [
        {
          "output_type": "display_data",
          "data": {
            "image/png": "[encoded data removed]",
            "text/plain": [
              "<Figure size 432x288 with 1 Axes>"
            ]
          },
          "metadata": {
            "tags": [],
            "needs_background": "light"
          }
        }
      ]
    },
    {
      "cell_type": "code",
      "metadata": {
        "id": "o8ZC63FmCWCy",
        "colab_type": "code",
        "colab": {}
      },
      "source": [
        "from sklearn.model_selection import train_test_split\n",
        "x_treino, x_teste, y_treino, y_teste = train_test_split(x, y, test_size = 0.30)"
      ],
      "execution_count": 20,
      "outputs": []
    },
    {
      "cell_type": "code",
      "metadata": {
        "id": "Vpya7e418ek7",
        "colab_type": "code",
        "colab": {
          "base_uri": "https://localhost:8080/",
          "height": 34
        },
        "outputId": "3e26e672-9be1-431c-f563-0bd32e8df284"
      },
      "source": [
        "modelo.fit(x_treino, y_treino)"
      ],
      "execution_count": 21,
      "outputs": [
        {
          "output_type": "execute_result",
          "data": {
            "text/plain": [
              "LinearRegression(copy_X=True, fit_intercept=True, n_jobs=None, normalize=False)"
            ]
          },
          "metadata": {
            "tags": []
          },
          "execution_count": 21
        }
      ]
    },
    {
      "cell_type": "code",
      "metadata": {
        "id": "iOxIwzJ5Mw2M",
        "colab_type": "code",
        "colab": {
          "base_uri": "https://localhost:8080/",
          "height": 34
        },
        "outputId": "41fab8e3-6a28-4841-e236-4fb3ce752fca"
      },
      "source": [
        "modelo.coef_"
      ],
      "execution_count": 27,
      "outputs": [
        {
          "output_type": "execute_result",
          "data": {
            "text/plain": [
              "array([64.79432523])"
            ]
          },
          "metadata": {
            "tags": []
          },
          "execution_count": 27
        }
      ]
    },
    {
      "cell_type": "code",
      "metadata": {
        "id": "pMWJFVeMMy94",
        "colab_type": "code",
        "colab": {
          "base_uri": "https://localhost:8080/",
          "height": 34
        },
        "outputId": "410a5d98-5aea-4567-a893-ddd7365e2c16"
      },
      "source": [
        "modelo.intercept_"
      ],
      "execution_count": 28,
      "outputs": [
        {
          "output_type": "execute_result",
          "data": {
            "text/plain": [
              "-2.700751302451824"
            ]
          },
          "metadata": {
            "tags": []
          },
          "execution_count": 28
        }
      ]
    },
    {
      "cell_type": "code",
      "metadata": {
        "id": "bnMMf5tNK6X1",
        "colab_type": "code",
        "colab": {}
      },
      "source": [
        "resultado = modelo.score(x_teste, y_teste)"
      ],
      "execution_count": 22,
      "outputs": []
    },
    {
      "cell_type": "code",
      "metadata": {
        "id": "oghiqkT2NKbL",
        "colab_type": "code",
        "colab": {
          "base_uri": "https://localhost:8080/",
          "height": 265
        },
        "outputId": "e2c91b1a-3e16-4bdf-af85-7727cdbdf086"
      },
      "source": [
        "plt.scatter(x_treino,y_treino)\n",
        "xreg = np.arange(-3, 4, 1)\n",
        "plt.plot(xreg, 64.79432523*xreg--2.700751302451824, color='red') # grafico regressao\n",
        "plt.show()"
      ],
      "execution_count": 31,
      "outputs": [
        {
          "output_type": "display_data",
          "data": {
            "image/png": "[encoded data removed]",
            "text/plain": [
              "<Figure size 432x288 with 1 Axes>"
            ]
          },
          "metadata": {
            "tags": [],
            "needs_background": "light"
          }
        }
      ]
    },
    {
      "cell_type": "code",
      "metadata": {
        "id": "BYzTvgoEMk2I",
        "colab_type": "code",
        "colab": {
          "base_uri": "https://localhost:8080/",
          "height": 265
        },
        "outputId": "3277b479-0481-4ee3-fd71-d5543d6e037c"
      },
      "source": [
        "#plot de resultados \n",
        "plt.scatter(x_teste,y_teste)\n",
        "xreg = np.arange(-3, 4, 1)\n",
        "plt.plot(xreg, 64.79432523*xreg--2.700751302451824, color='red') # grafico regressao\n",
        "plt.show()"
      ],
      "execution_count": 33,
      "outputs": [
        {
          "output_type": "display_data",
          "data": {
            "image/png": "[encoded data removed]",
            "text/plain": [
              "<Figure size 432x288 with 1 Axes>"
            ]
          },
          "metadata": {
            "tags": [],
            "needs_background": "light"
          }
        }
      ]
    },
    {
      "cell_type": "code",
      "metadata": {
        "id": "SASOlrTdLDum",
        "colab_type": "code",
        "colab": {
          "base_uri": "https://localhost:8080/",
          "height": 34
        },
        "outputId": "748506c6-751f-4e17-caf1-a7d172dd4f05"
      },
      "source": [
        "print(resultado)"
      ],
      "execution_count": 32,
      "outputs": [
        {
          "output_type": "stream",
          "text": [
            "0.8998546571713865\n"
          ],
          "name": "stdout"
        }
      ]
    }
  ]
}